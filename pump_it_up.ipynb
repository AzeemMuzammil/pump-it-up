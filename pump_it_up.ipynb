{
 "cells": [
  {
   "cell_type": "code",
   "execution_count": 139,
   "id": "96746312",
   "metadata": {},
   "outputs": [],
   "source": [
    "import pandas as pd\n",
    "import numpy as np\n",
    "import matplotlib.pyplot as plt\n",
    "\n",
    "from sklearn.preprocessing import LabelEncoder, StandardScaler\n",
    "from sklearn.model_selection import train_test_split\n",
    "\n",
    "import time\n",
    "import datetime"
   ]
  },
  {
   "cell_type": "code",
   "execution_count": 140,
   "id": "79616b90",
   "metadata": {},
   "outputs": [],
   "source": [
    "test_set_values = pd.read_csv(\"/Users/azeemmuzammil/Documents/Aca/pump-it-up/data_set/test_set_values.csv\")\n",
    "training_set_labels = pd.read_csv(\"/Users/azeemmuzammil/Documents/Aca/pump-it-up/data_set/training_set_labels.csv\")\n",
    "training_set_values = pd.read_csv(\"/Users/azeemmuzammil/Documents/Aca/pump-it-up/data_set/training_set_values.csv\")"
   ]
  },
  {
   "cell_type": "code",
   "execution_count": 141,
   "id": "8581e59a",
   "metadata": {},
   "outputs": [],
   "source": [
    "data_set = pd.merge(training_set_values , training_set_labels , on =\"id\")"
   ]
  },
  {
   "cell_type": "code",
   "execution_count": 142,
   "id": "d1f46b33",
   "metadata": {},
   "outputs": [
    {
     "data": {
      "text/html": [
       "<div>\n",
       "<style scoped>\n",
       "    .dataframe tbody tr th:only-of-type {\n",
       "        vertical-align: middle;\n",
       "    }\n",
       "\n",
       "    .dataframe tbody tr th {\n",
       "        vertical-align: top;\n",
       "    }\n",
       "\n",
       "    .dataframe thead th {\n",
       "        text-align: right;\n",
       "    }\n",
       "</style>\n",
       "<table border=\"1\" class=\"dataframe\">\n",
       "  <thead>\n",
       "    <tr style=\"text-align: right;\">\n",
       "      <th></th>\n",
       "      <th>id</th>\n",
       "      <th>amount_tsh</th>\n",
       "      <th>date_recorded</th>\n",
       "      <th>funder</th>\n",
       "      <th>gps_height</th>\n",
       "      <th>installer</th>\n",
       "      <th>longitude</th>\n",
       "      <th>latitude</th>\n",
       "      <th>wpt_name</th>\n",
       "      <th>num_private</th>\n",
       "      <th>...</th>\n",
       "      <th>water_quality</th>\n",
       "      <th>quality_group</th>\n",
       "      <th>quantity</th>\n",
       "      <th>quantity_group</th>\n",
       "      <th>source</th>\n",
       "      <th>source_type</th>\n",
       "      <th>source_class</th>\n",
       "      <th>waterpoint_type</th>\n",
       "      <th>waterpoint_type_group</th>\n",
       "      <th>status_group</th>\n",
       "    </tr>\n",
       "  </thead>\n",
       "  <tbody>\n",
       "    <tr>\n",
       "      <th>0</th>\n",
       "      <td>69572</td>\n",
       "      <td>6000.0</td>\n",
       "      <td>2011-03-14</td>\n",
       "      <td>Roman</td>\n",
       "      <td>1390</td>\n",
       "      <td>Roman</td>\n",
       "      <td>34.938093</td>\n",
       "      <td>-9.856322</td>\n",
       "      <td>none</td>\n",
       "      <td>0</td>\n",
       "      <td>...</td>\n",
       "      <td>soft</td>\n",
       "      <td>good</td>\n",
       "      <td>enough</td>\n",
       "      <td>enough</td>\n",
       "      <td>spring</td>\n",
       "      <td>spring</td>\n",
       "      <td>groundwater</td>\n",
       "      <td>communal standpipe</td>\n",
       "      <td>communal standpipe</td>\n",
       "      <td>functional</td>\n",
       "    </tr>\n",
       "    <tr>\n",
       "      <th>1</th>\n",
       "      <td>8776</td>\n",
       "      <td>0.0</td>\n",
       "      <td>2013-03-06</td>\n",
       "      <td>Grumeti</td>\n",
       "      <td>1399</td>\n",
       "      <td>GRUMETI</td>\n",
       "      <td>34.698766</td>\n",
       "      <td>-2.147466</td>\n",
       "      <td>Zahanati</td>\n",
       "      <td>0</td>\n",
       "      <td>...</td>\n",
       "      <td>soft</td>\n",
       "      <td>good</td>\n",
       "      <td>insufficient</td>\n",
       "      <td>insufficient</td>\n",
       "      <td>rainwater harvesting</td>\n",
       "      <td>rainwater harvesting</td>\n",
       "      <td>surface</td>\n",
       "      <td>communal standpipe</td>\n",
       "      <td>communal standpipe</td>\n",
       "      <td>functional</td>\n",
       "    </tr>\n",
       "    <tr>\n",
       "      <th>2</th>\n",
       "      <td>34310</td>\n",
       "      <td>25.0</td>\n",
       "      <td>2013-02-25</td>\n",
       "      <td>Lottery Club</td>\n",
       "      <td>686</td>\n",
       "      <td>World vision</td>\n",
       "      <td>37.460664</td>\n",
       "      <td>-3.821329</td>\n",
       "      <td>Kwa Mahundi</td>\n",
       "      <td>0</td>\n",
       "      <td>...</td>\n",
       "      <td>soft</td>\n",
       "      <td>good</td>\n",
       "      <td>enough</td>\n",
       "      <td>enough</td>\n",
       "      <td>dam</td>\n",
       "      <td>dam</td>\n",
       "      <td>surface</td>\n",
       "      <td>communal standpipe multiple</td>\n",
       "      <td>communal standpipe</td>\n",
       "      <td>functional</td>\n",
       "    </tr>\n",
       "    <tr>\n",
       "      <th>3</th>\n",
       "      <td>67743</td>\n",
       "      <td>0.0</td>\n",
       "      <td>2013-01-28</td>\n",
       "      <td>Unicef</td>\n",
       "      <td>263</td>\n",
       "      <td>UNICEF</td>\n",
       "      <td>38.486161</td>\n",
       "      <td>-11.155298</td>\n",
       "      <td>Zahanati Ya Nanyumbu</td>\n",
       "      <td>0</td>\n",
       "      <td>...</td>\n",
       "      <td>soft</td>\n",
       "      <td>good</td>\n",
       "      <td>dry</td>\n",
       "      <td>dry</td>\n",
       "      <td>machine dbh</td>\n",
       "      <td>borehole</td>\n",
       "      <td>groundwater</td>\n",
       "      <td>communal standpipe multiple</td>\n",
       "      <td>communal standpipe</td>\n",
       "      <td>non functional</td>\n",
       "    </tr>\n",
       "    <tr>\n",
       "      <th>4</th>\n",
       "      <td>19728</td>\n",
       "      <td>0.0</td>\n",
       "      <td>2011-07-13</td>\n",
       "      <td>Action In A</td>\n",
       "      <td>0</td>\n",
       "      <td>Artisan</td>\n",
       "      <td>31.130847</td>\n",
       "      <td>-1.825359</td>\n",
       "      <td>Shuleni</td>\n",
       "      <td>0</td>\n",
       "      <td>...</td>\n",
       "      <td>soft</td>\n",
       "      <td>good</td>\n",
       "      <td>seasonal</td>\n",
       "      <td>seasonal</td>\n",
       "      <td>rainwater harvesting</td>\n",
       "      <td>rainwater harvesting</td>\n",
       "      <td>surface</td>\n",
       "      <td>communal standpipe</td>\n",
       "      <td>communal standpipe</td>\n",
       "      <td>functional</td>\n",
       "    </tr>\n",
       "  </tbody>\n",
       "</table>\n",
       "<p>5 rows × 41 columns</p>\n",
       "</div>"
      ],
      "text/plain": [
       "      id  amount_tsh date_recorded        funder  gps_height     installer  \\\n",
       "0  69572      6000.0    2011-03-14         Roman        1390         Roman   \n",
       "1   8776         0.0    2013-03-06       Grumeti        1399       GRUMETI   \n",
       "2  34310        25.0    2013-02-25  Lottery Club         686  World vision   \n",
       "3  67743         0.0    2013-01-28        Unicef         263        UNICEF   \n",
       "4  19728         0.0    2011-07-13   Action In A           0       Artisan   \n",
       "\n",
       "   longitude   latitude              wpt_name  num_private  ... water_quality  \\\n",
       "0  34.938093  -9.856322                  none            0  ...          soft   \n",
       "1  34.698766  -2.147466              Zahanati            0  ...          soft   \n",
       "2  37.460664  -3.821329           Kwa Mahundi            0  ...          soft   \n",
       "3  38.486161 -11.155298  Zahanati Ya Nanyumbu            0  ...          soft   \n",
       "4  31.130847  -1.825359               Shuleni            0  ...          soft   \n",
       "\n",
       "  quality_group      quantity  quantity_group                source  \\\n",
       "0          good        enough          enough                spring   \n",
       "1          good  insufficient    insufficient  rainwater harvesting   \n",
       "2          good        enough          enough                   dam   \n",
       "3          good           dry             dry           machine dbh   \n",
       "4          good      seasonal        seasonal  rainwater harvesting   \n",
       "\n",
       "            source_type source_class              waterpoint_type  \\\n",
       "0                spring  groundwater           communal standpipe   \n",
       "1  rainwater harvesting      surface           communal standpipe   \n",
       "2                   dam      surface  communal standpipe multiple   \n",
       "3              borehole  groundwater  communal standpipe multiple   \n",
       "4  rainwater harvesting      surface           communal standpipe   \n",
       "\n",
       "  waterpoint_type_group    status_group  \n",
       "0    communal standpipe      functional  \n",
       "1    communal standpipe      functional  \n",
       "2    communal standpipe      functional  \n",
       "3    communal standpipe  non functional  \n",
       "4    communal standpipe      functional  \n",
       "\n",
       "[5 rows x 41 columns]"
      ]
     },
     "execution_count": 142,
     "metadata": {},
     "output_type": "execute_result"
    }
   ],
   "source": [
    "data_set.head()"
   ]
  },
  {
   "cell_type": "code",
   "execution_count": 143,
   "id": "db3ec260",
   "metadata": {},
   "outputs": [],
   "source": [
    "data_set = data_set.drop(['id'], axis=1)"
   ]
  },
  {
   "cell_type": "code",
   "execution_count": 144,
   "id": "0530e30f",
   "metadata": {},
   "outputs": [],
   "source": [
    "data_set['longitude'] = data_set['longitude'].replace(0, data_set['longitude'].mean())"
   ]
  },
  {
   "cell_type": "code",
   "execution_count": 145,
   "id": "cd0c96c4",
   "metadata": {},
   "outputs": [],
   "source": [
    "data_set['permit'] = data_set['permit'].astype(str)\n",
    "data_set['public_meeting'] = data_set['public_meeting'].astype(str)"
   ]
  },
  {
   "cell_type": "code",
   "execution_count": 146,
   "id": "7f678b61",
   "metadata": {},
   "outputs": [],
   "source": [
    "category_columns = ['funder',\n",
    "       'installer', 'wpt_name', \n",
    "       'basin', 'subvillage', 'region', 'lga',\n",
    "       'ward', 'public_meeting',\n",
    "       'scheme_management', \n",
    "       'scheme_name', \n",
    "       'permit',\n",
    "       'extraction_type', 'extraction_type_group', 'extraction_type_class',\n",
    "       'management', 'management_group', 'payment', 'payment_type',\n",
    "       'water_quality', 'quality_group', 'quantity', 'quantity_group',\n",
    "       'source', 'source_type', 'source_class', 'waterpoint_type',\n",
    "       'waterpoint_type_group',\n",
    "       'status_group']"
   ]
  },
  {
   "cell_type": "code",
   "execution_count": 147,
   "id": "ee25c266",
   "metadata": {},
   "outputs": [],
   "source": [
    "for column in category_columns:\n",
    "    if column not in data_set.columns:\n",
    "        continue\n",
    "        \n",
    "    data_set[column] = data_set[column].fillna('n/a')"
   ]
  },
  {
   "cell_type": "code",
   "execution_count": 148,
   "id": "e446e985",
   "metadata": {},
   "outputs": [],
   "source": [
    "encoders = {} \n",
    "for column in category_columns:\n",
    "    if column not in data_set.columns:\n",
    "        continue\n",
    "            \n",
    "    label_encoder = LabelEncoder()\n",
    "    label_encoder.fit(data_set[column])\n",
    "\n",
    "    data_set[column] = label_encoder.transform(data_set[column])\n",
    "    encoders[column]= label_encoder"
   ]
  },
  {
   "cell_type": "code",
   "execution_count": 149,
   "id": "d2682b99",
   "metadata": {},
   "outputs": [],
   "source": [
    "timestamp_format=\"%Y-%m-%d\"\n",
    "data_set['date_recorded'] = [ datetime.datetime.strptime(x, timestamp_format).timestamp() for x in data_set['date_recorded']]"
   ]
  },
  {
   "cell_type": "code",
   "execution_count": 150,
   "id": "b7aed87b",
   "metadata": {},
   "outputs": [],
   "source": [
    "data_set.drop('recorded_by', axis=1, inplace=True)"
   ]
  },
  {
   "cell_type": "code",
   "execution_count": 151,
   "id": "47e93710",
   "metadata": {},
   "outputs": [
    {
     "name": "stderr",
     "output_type": "stream",
     "text": [
      "/var/folders/n6/96n03bt14yg77scyc2n2fqq40000gn/T/ipykernel_14741/839541878.py:9: FutureWarning: In a future version of pandas all arguments of DataFrame.drop except for the argument 'labels' will be keyword-only\n",
      "  data_set.drop(drop_columns,1, inplace=True)\n"
     ]
    }
   ],
   "source": [
    "drop_columns = ['region',\n",
    "                'extraction_type_group', 'extraction_type_class', \n",
    "                'management_group', \n",
    "                'payment', \n",
    "                'quality_group', \n",
    "                'quantity', \n",
    "                'source_type', 'source_class', \n",
    "                'waterpoint_type_group']\n",
    "data_set.drop(drop_columns,1, inplace=True)"
   ]
  },
  {
   "cell_type": "code",
   "execution_count": 152,
   "id": "913442a9",
   "metadata": {},
   "outputs": [],
   "source": [
    "def scale_columns(dataset: pd.DataFrame):\n",
    "    scaler = StandardScaler()\n",
    "    dataset = scaler.fit_transform(dataset)\n",
    "\n",
    "scale_columns(data_set)"
   ]
  },
  {
   "cell_type": "code",
   "execution_count": 153,
   "id": "b8de16f9",
   "metadata": {},
   "outputs": [],
   "source": [
    "def prepare_data_set(data_set):\n",
    "    id_column = data_set['id']\n",
    "    \n",
    "    data_set = data_set.drop(['id'], axis=1)\n",
    "    data_set['longitude'] = data_set['longitude'].replace(0, data_set['longitude'].mean())\n",
    "\n",
    "    data_set['permit'] = data_set['permit'].astype(str)\n",
    "    data_set['public_meeting'] = data_set['public_meeting'].astype(str)\n",
    "\n",
    "    for column in category_columns:\n",
    "        if column not in data_set.columns:\n",
    "            continue\n",
    "        \n",
    "        data_set[column] = data_set[column].fillna('n/a')\n",
    "\n",
    "    encoders = {} \n",
    "    for column in category_columns:\n",
    "        if column not in data_set.columns:\n",
    "            continue\n",
    "            \n",
    "        label_encoder = LabelEncoder()\n",
    "        label_encoder.fit(data_set[column])\n",
    "\n",
    "        data_set[column] = label_encoder.transform(data_set[column])\n",
    "        encoders[column]= data_set\n",
    "    \n",
    "    data_set['date_recorded'] = [ datetime.datetime.strptime(x, timestamp_format).timestamp() for x in data_set['date_recorded']]\n",
    "\n",
    "    data_set.drop('recorded_by', axis=1, inplace=True)\n",
    "    data_set.drop(drop_columns,1, inplace=True)\n",
    "\n",
    "    data_set = std_scaler.fit_transform(data_set)\n",
    "    \n",
    "    return data_set, id_column"
   ]
  },
  {
   "cell_type": "code",
   "execution_count": 154,
   "id": "6d25e9a0",
   "metadata": {},
   "outputs": [],
   "source": [
    "def split_dataset(dataset: pd.DataFrame): \n",
    "    X = dataset.iloc[:, :-1]\n",
    "    y = dataset.iloc[:, -1]\n",
    "    return train_test_split(X, y, test_size=0.1, random_state = 0)\n",
    "\n",
    "X_train, X_test, y_train, y_test = split_dataset(data_set)"
   ]
  },
  {
   "cell_type": "code",
   "execution_count": 155,
   "id": "18b55ac0",
   "metadata": {},
   "outputs": [],
   "source": [
    "def plot_features_importances(classifier, X_train):\n",
    "    series = pd.Series(classifier.feature_importances_, index=X_train.columns).sort_values(ascending=True)\n",
    "    series = series.plot(kind='barh', figsize=(10,10))\n",
    "    plt.xlabel('Feature importance')\n",
    "    plt.ylabel('Features')\n",
    "    plt.show()"
   ]
  },
  {
   "cell_type": "code",
   "execution_count": 156,
   "id": "4164b524",
   "metadata": {},
   "outputs": [],
   "source": [
    "def random_forest(X_train, y_train):\n",
    "    from sklearn.ensemble import RandomForestClassifier\n",
    "    clf = RandomForestClassifier(max_depth=25, n_estimators = 42*5, criterion = 'entropy', random_state = 0)\n",
    "\n",
    "    clf.fit(X_train, y_train)\n",
    "    \n",
    "    return clf"
   ]
  },
  {
   "cell_type": "code",
   "execution_count": 166,
   "id": "e3e6f415",
   "metadata": {},
   "outputs": [
    {
     "name": "stdout",
     "output_type": "stream",
     "text": [
      "Random Forest has accuracy: 0.8183501683501684\n"
     ]
    },
    {
     "data": {
      "image/png": "[encoded data removed]",
      "text/plain": [
       "<Figure size 720x720 with 1 Axes>"
      ]
     },
     "metadata": {
      "needs_background": "light"
     },
     "output_type": "display_data"
    }
   ],
   "source": [
    "rf_clf = random_forest(X_train, y_train)\n",
    "\n",
    "accuracy = rf_clf.score(X_test, y_test)\n",
    "print(f'Random Forest has accuracy: {accuracy}')\n",
    "plot_features_importances(rf_clf, X_train)"
   ]
  },
  {
   "cell_type": "code",
   "execution_count": 158,
   "id": "45de7a7e",
   "metadata": {},
   "outputs": [],
   "source": [
    "def k_nearest(X_train, y_train):\n",
    "    from sklearn.neighbors import KNeighborsClassifier\n",
    "    clf = KNeighborsClassifier(n_neighbors=3)\n",
    "    \n",
    "    clf.fit(X_train, y_train)\n",
    "    \n",
    "    return clf"
   ]
  },
  {
   "cell_type": "code",
   "execution_count": 168,
   "id": "eb5a8687",
   "metadata": {},
   "outputs": [
    {
     "name": "stdout",
     "output_type": "stream",
     "text": [
      "K-Nearest Neighbors has accuracy: 0.5934343434343434\n"
     ]
    }
   ],
   "source": [
    "k_nearest_clf = k_nearest(X_train, y_train)\n",
    "\n",
    "k_acc = k_nearest_clf.score(X_test, y_test)\n",
    "print(f'K-Nearest Neighbors has accuracy: {k_acc}')"
   ]
  },
  {
   "cell_type": "code",
   "execution_count": 160,
   "id": "0c9e78c8",
   "metadata": {},
   "outputs": [
    {
     "name": "stderr",
     "output_type": "stream",
     "text": [
      "/var/folders/n6/96n03bt14yg77scyc2n2fqq40000gn/T/ipykernel_14741/2886468581.py:30: FutureWarning: In a future version of pandas all arguments of DataFrame.drop except for the argument 'labels' will be keyword-only\n",
      "  data_set.drop(drop_columns,1, inplace=True)\n"
     ]
    }
   ],
   "source": [
    "real_X, real_id_column = prepare_data_set(test_set_values)"
   ]
  },
  {
   "cell_type": "code",
   "execution_count": 161,
   "id": "d9224d7a",
   "metadata": {},
   "outputs": [],
   "source": [
    "real_y = rf_clf.predict(real_X)"
   ]
  },
  {
   "cell_type": "code",
   "execution_count": 162,
   "id": "dbae5866",
   "metadata": {},
   "outputs": [
    {
     "name": "stdout",
     "output_type": "stream",
     "text": [
      "<class 'dict'>\n"
     ]
    }
   ],
   "source": [
    "status_group_encoder = encoders['status_group']"
   ]
  },
  {
   "cell_type": "code",
   "execution_count": 163,
   "id": "0b500106",
   "metadata": {},
   "outputs": [],
   "source": [
    "real_decoded_y = pd.DataFrame(status_group_encoder.inverse_transform(real_y), columns = ['status_group'])"
   ]
  },
  {
   "cell_type": "code",
   "execution_count": 164,
   "id": "9447de2a",
   "metadata": {},
   "outputs": [],
   "source": [
    "result = pd.concat([real_id_column, real_decoded_y], axis=1)"
   ]
  },
  {
   "cell_type": "code",
   "execution_count": 165,
   "id": "03a244e2",
   "metadata": {},
   "outputs": [
    {
     "data": {
      "text/html": [
       "<div>\n",
       "<style scoped>\n",
       "    .dataframe tbody tr th:only-of-type {\n",
       "        vertical-align: middle;\n",
       "    }\n",
       "\n",
       "    .dataframe tbody tr th {\n",
       "        vertical-align: top;\n",
       "    }\n",
       "\n",
       "    .dataframe thead th {\n",
       "        text-align: right;\n",
       "    }\n",
       "</style>\n",
       "<table border=\"1\" class=\"dataframe\">\n",
       "  <thead>\n",
       "    <tr style=\"text-align: right;\">\n",
       "      <th></th>\n",
       "      <th>id</th>\n",
       "      <th>status_group</th>\n",
       "    </tr>\n",
       "  </thead>\n",
       "  <tbody>\n",
       "    <tr>\n",
       "      <th>0</th>\n",
       "      <td>50785</td>\n",
       "      <td>functional</td>\n",
       "    </tr>\n",
       "    <tr>\n",
       "      <th>1</th>\n",
       "      <td>51630</td>\n",
       "      <td>functional</td>\n",
       "    </tr>\n",
       "    <tr>\n",
       "      <th>2</th>\n",
       "      <td>17168</td>\n",
       "      <td>functional</td>\n",
       "    </tr>\n",
       "    <tr>\n",
       "      <th>3</th>\n",
       "      <td>45559</td>\n",
       "      <td>non functional</td>\n",
       "    </tr>\n",
       "    <tr>\n",
       "      <th>4</th>\n",
       "      <td>49871</td>\n",
       "      <td>non functional</td>\n",
       "    </tr>\n",
       "  </tbody>\n",
       "</table>\n",
       "</div>"
      ],
      "text/plain": [
       "      id    status_group\n",
       "0  50785      functional\n",
       "1  51630      functional\n",
       "2  17168      functional\n",
       "3  45559  non functional\n",
       "4  49871  non functional"
      ]
     },
     "execution_count": 165,
     "metadata": {},
     "output_type": "execute_result"
    }
   ],
   "source": [
    "result.head()"
   ]
  },
  {
   "cell_type": "code",
   "execution_count": null,
   "id": "f32cc9fa",
   "metadata": {},
   "outputs": [],
   "source": []
  }
 ],
 "metadata": {
  "kernelspec": {
   "display_name": "Python 3 (ipykernel)",
   "language": "python",
   "name": "python3"
  },
  "language_info": {
   "codemirror_mode": {
    "name": "ipython",
    "version": 3
   },
   "file_extension": ".py",
   "mimetype": "text/x-python",
   "name": "python",
   "nbconvert_exporter": "python",
   "pygments_lexer": "ipython3",
   "version": "3.9.7"
  }
 },
 "nbformat": 4,
 "nbformat_minor": 5
}
